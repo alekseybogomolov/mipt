{
 "cells": [
  {
   "cell_type": "code",
   "execution_count": 1,
   "id": "83207e79",
   "metadata": {},
   "outputs": [],
   "source": [
    "!pip install -q -U kaggle_environments"
   ]
  },
  {
   "cell_type": "code",
   "execution_count": 2,
   "id": "75d6af9d",
   "metadata": {},
   "outputs": [],
   "source": [
    "import random\n",
    "import numpy as np\n",
    "import pandas as pd\n",
    "\n",
    "import matplotlib.pyplot as plt\n",
    "import seaborn as sns\n",
    "\n",
    "from kaggle_environments import make, evaluate\n",
    "from pprint import pprint"
   ]
  },
  {
   "cell_type": "code",
   "execution_count": 4,
   "id": "10d9185e",
   "metadata": {},
   "outputs": [
    {
     "name": "stdout",
     "output_type": "stream",
     "text": [
      "Writing rock_agent.py\n"
     ]
    }
   ],
   "source": [
    "# игрок, играющий всегда камень \n",
    "%%writefile rock_agent.py\n",
    "\n",
    "#0 - rock\n",
    "#1 - paper\n",
    "#2 - scissors\n",
    "def rock_agent(observation, configuration):\n",
    "    return 0"
   ]
  },
  {
   "cell_type": "code",
   "execution_count": 5,
   "id": "103915df",
   "metadata": {},
   "outputs": [
    {
     "data": {
      "text/plain": [
       "[[-98.0, 98.0]]"
      ]
     },
     "execution_count": 5,
     "metadata": {},
     "output_type": "execute_result"
    }
   ],
   "source": [
    "evaluate(\n",
    "    \"rps\", #environment to use - no need to change\n",
    "    [\"rock_agent.py\", \"statistical\"], #agents to evaluate\n",
    "    configuration={\"episodeSteps\": 100}, #number of episodes\n",
    ")"
   ]
  },
  {
   "cell_type": "code",
   "execution_count": 6,
   "id": "897b7f5e",
   "metadata": {},
   "outputs": [
    {
     "name": "stdout",
     "output_type": "stream",
     "text": [
      "Writing paper_agent.py\n"
     ]
    }
   ],
   "source": [
    "# игрок, играющий всегда бумагу\n",
    "%%writefile paper_agent.py\n",
    "\n",
    "def paper_agent(observation, configuration):\n",
    "    return 1"
   ]
  },
  {
   "cell_type": "code",
   "execution_count": 7,
   "id": "98431787",
   "metadata": {},
   "outputs": [
    {
     "data": {
      "text/plain": [
       "[[-97.0, 97.0]]"
      ]
     },
     "execution_count": 7,
     "metadata": {},
     "output_type": "execute_result"
    }
   ],
   "source": [
    "evaluate(\n",
    "    \"rps\", #environment to use - no need to change\n",
    "    [\"paper_agent.py\", \"statistical\"], #agents to evaluate\n",
    "    configuration={\"episodeSteps\": 100} #number of episodes \n",
    ")"
   ]
  },
  {
   "cell_type": "code",
   "execution_count": 8,
   "id": "b1465248",
   "metadata": {},
   "outputs": [
    {
     "name": "stdout",
     "output_type": "stream",
     "text": [
      "Writing scissors_agent.py\n"
     ]
    }
   ],
   "source": [
    "# игрок, играющий всегда ножницы\n",
    "%%writefile scissors_agent.py\n",
    "\n",
    "def scissors_agent(observation, configuration):\n",
    "    return 2"
   ]
  },
  {
   "cell_type": "code",
   "execution_count": 9,
   "id": "2c4a9caf",
   "metadata": {},
   "outputs": [
    {
     "data": {
      "text/plain": [
       "[[-99.0, 99.0]]"
      ]
     },
     "execution_count": 9,
     "metadata": {},
     "output_type": "execute_result"
    }
   ],
   "source": [
    "evaluate(\n",
    "    \"rps\", #environment to use - no need to change\n",
    "    [\"scissors_agent.py\", \"statistical\"], #agents to evaluate\n",
    "    configuration={\"episodeSteps\": 100}, #number of episodes\n",
    ")"
   ]
  },
  {
   "cell_type": "code",
   "execution_count": 43,
   "id": "5f8a435b",
   "metadata": {},
   "outputs": [
    {
     "name": "stdout",
     "output_type": "stream",
     "text": [
      "Overwriting random_opponent.py\n"
     ]
    }
   ],
   "source": [
    "# игрок, играющий всегда случайно\n",
    "%%writefile random_opponent.py\n",
    "\n",
    "import random\n",
    "\n",
    "def random_opponent(observation, configuration):\n",
    "    return random.randrange(0, configuration.signs)"
   ]
  },
  {
   "cell_type": "code",
   "execution_count": 42,
   "id": "c3a34bee",
   "metadata": {},
   "outputs": [
    {
     "data": {
      "text/plain": [
       "[[0, 0]]"
      ]
     },
     "execution_count": 42,
     "metadata": {},
     "output_type": "execute_result"
    }
   ],
   "source": [
    "evaluate(\n",
    "    \"rps\", #environment to use - no need to change\n",
    "    [\"random_opponent.py\", \"statistical\"], #agents to evaluate\n",
    "    configuration={\"episodeSteps\": 100}, #number of episodes\n",
    ")"
   ]
  },
  {
   "cell_type": "code",
   "execution_count": 12,
   "id": "cd4c6647",
   "metadata": {},
   "outputs": [
    {
     "name": "stdout",
     "output_type": "stream",
     "text": [
      "Writing copy_opponent.py\n"
     ]
    }
   ],
   "source": [
    "# игрок, копирующий прошлый ход соперника\n",
    "%%writefile copy_opponent.py\n",
    "\n",
    "import random\n",
    "\n",
    "def copy_opponent(observation, configuration):\n",
    "    if observation.step > 0:\n",
    "        return observation.lastOpponentAction\n",
    "    else:\n",
    "        return random.randrange(0, configuration.signs)"
   ]
  },
  {
   "cell_type": "code",
   "execution_count": 13,
   "id": "de2a7c76",
   "metadata": {},
   "outputs": [
    {
     "data": {
      "text/plain": [
       "[[-22.0, 22.0]]"
      ]
     },
     "execution_count": 13,
     "metadata": {},
     "output_type": "execute_result"
    }
   ],
   "source": [
    "evaluate(\n",
    "    \"rps\", #environment to use - no need to change\n",
    "    [\"copy_opponent.py\", \"statistical\"], #agents to evaluate\n",
    "    configuration={\"episodeSteps\": 100}, #number of episodes\n",
    ")"
   ]
  },
  {
   "cell_type": "code",
   "execution_count": 14,
   "id": "754924bb",
   "metadata": {},
   "outputs": [
    {
     "name": "stdout",
     "output_type": "stream",
     "text": [
      "Writing copynext_opponent.py\n"
     ]
    }
   ],
   "source": [
    "# игрок, использующий прошлый ход соперника + 1\n",
    "%%writefile copynext_opponent.py\n",
    "\n",
    "import random\n",
    "\n",
    "def copynext_opponent(observation, configuration):\n",
    "    if observation.step > 0:\n",
    "        return (observation.lastOpponentAction + 1) % configuration.signs\n",
    "    else:\n",
    "        return random.randrange(0, configuration.signs)"
   ]
  },
  {
   "cell_type": "code",
   "execution_count": 15,
   "id": "749f31fb",
   "metadata": {},
   "outputs": [
    {
     "data": {
      "text/plain": [
       "[[49.0, -49.0]]"
      ]
     },
     "execution_count": 15,
     "metadata": {},
     "output_type": "execute_result"
    }
   ],
   "source": [
    "evaluate(\n",
    "    \"rps\", #environment to use - no need to change\n",
    "    [\"copynext_opponent.py\", \"statistical\"], #agents to evaluate\n",
    "    configuration={\"episodeSteps\": 100}, #number of episodes\n",
    ")"
   ]
  },
  {
   "cell_type": "code",
   "execution_count": 16,
   "id": "1ef91587",
   "metadata": {},
   "outputs": [
    {
     "name": "stdout",
     "output_type": "stream",
     "text": [
      "Writing copyprevious_opponent.py\n"
     ]
    }
   ],
   "source": [
    "# игрок, использующий прошлый ход соперника - 1\n",
    "%%writefile copyprevious_opponent.py\n",
    "\n",
    "import random\n",
    "\n",
    "def copyprevious_opponent(observation, configuration):\n",
    "    if observation.step > 0:\n",
    "        return (observation.lastOpponentAction + 2) % configuration.signs\n",
    "    else:\n",
    "        return random.randrange(0, configuration.signs)"
   ]
  },
  {
   "cell_type": "code",
   "execution_count": 17,
   "id": "a5f0b9c4",
   "metadata": {},
   "outputs": [
    {
     "data": {
      "text/plain": [
       "[[-99.0, 99.0]]"
      ]
     },
     "execution_count": 17,
     "metadata": {},
     "output_type": "execute_result"
    }
   ],
   "source": [
    "evaluate(\n",
    "    \"rps\", #environment to use - no need to change\n",
    "    [\"copyprevious_opponent.py\", \"statistical\"], #agents to evaluate\n",
    "    configuration={\"episodeSteps\": 100}, #number of episodes\n",
    ")"
   ]
  },
  {
   "cell_type": "code",
   "execution_count": 18,
   "id": "bcb3c0a6",
   "metadata": {},
   "outputs": [
    {
     "name": "stdout",
     "output_type": "stream",
     "text": [
      "Writing opposit_agent.py\n"
     ]
    }
   ],
   "source": [
    "# игрок, рандомно использует то, что не выкинул соперник на прошлом ходу\n",
    "%%writefile opposit_agent.py\n",
    "\n",
    "import random\n",
    "\n",
    "def opposit_agent(observation, configuration):\n",
    "    if observation.step > 0:\n",
    "        if observation.lastOpponentAction == 0:\n",
    "            return random.choice([1,2])\n",
    "        elif observation.lastOpponentAction == 1:\n",
    "            return random.choice([0,2])\n",
    "        else:\n",
    "            return random.choice([1,0])\n",
    "    else:\n",
    "        return random.randrange(0, configuration.signs)"
   ]
  },
  {
   "cell_type": "code",
   "execution_count": 19,
   "id": "bbb2729f",
   "metadata": {},
   "outputs": [
    {
     "data": {
      "text/plain": [
       "[[0, 0]]"
      ]
     },
     "execution_count": 19,
     "metadata": {},
     "output_type": "execute_result"
    }
   ],
   "source": [
    "evaluate(\n",
    "    \"rps\", #environment to use - no need to change\n",
    "    [\"opposit_agent.py\", \"statistical\"], #agents to evaluate\n",
    "    configuration={\"episodeSteps\": 100}, #number of episodes\n",
    ")"
   ]
  },
  {
   "cell_type": "code",
   "execution_count": 20,
   "id": "6b3b0ad4",
   "metadata": {},
   "outputs": [
    {
     "name": "stdout",
     "output_type": "stream",
     "text": [
      "Writing random3_opponent.py\n"
     ]
    }
   ],
   "source": [
    "# игрок, использует 3 раза один и тот же метод, а потом рандомно его меняет\n",
    "%%writefile random3_opponent.py\n",
    "\n",
    "import random\n",
    "\n",
    "counter = 0\n",
    "stable_sign = None\n",
    "\n",
    "def random3_opponent(observation, configuration):\n",
    "    global counter\n",
    "    global stable_sign\n",
    "    if observation.step == 0:\n",
    "        stable_sign = random.randrange(0, configuration.signs)\n",
    "    elif counter % 3 == 2:\n",
    "        stable_sign = random.randrange(0, configuration.signs)\n",
    "    counter += 1\n",
    "    return stable_sign"
   ]
  },
  {
   "cell_type": "code",
   "execution_count": 21,
   "id": "cf570356",
   "metadata": {},
   "outputs": [
    {
     "data": {
      "text/plain": [
       "[[-24.0, 24.0]]"
      ]
     },
     "execution_count": 21,
     "metadata": {},
     "output_type": "execute_result"
    }
   ],
   "source": [
    "evaluate(\n",
    "    \"rps\", #environment to use - no need to change\n",
    "    [\"random3_opponent.py\", \"statistical\"], #agents to evaluate\n",
    "    configuration={\"episodeSteps\": 100}, #number of episodes\n",
    ")"
   ]
  },
  {
   "cell_type": "code",
   "execution_count": 52,
   "id": "650def36",
   "metadata": {},
   "outputs": [
    {
     "name": "stdout",
     "output_type": "stream",
     "text": [
      "Overwriting rock_scissors_only.py\n"
     ]
    }
   ],
   "source": [
    "# игрок, использует рандомно только ножницы и камень\n",
    "%%writefile rock_scissors_only.py\n",
    "import random\n",
    "\n",
    "def rock_scissors_only(observation, configuration):\n",
    "    return random.randrange(0, 2, 2)"
   ]
  },
  {
   "cell_type": "code",
   "execution_count": 53,
   "id": "8d817416",
   "metadata": {},
   "outputs": [
    {
     "data": {
      "text/plain": [
       "[[-98.0, 98.0]]"
      ]
     },
     "execution_count": 53,
     "metadata": {},
     "output_type": "execute_result"
    }
   ],
   "source": [
    "evaluate(\n",
    "    \"rps\", #environment to use - no need to change\n",
    "    [\"rock_scissors_only.py\", \"statistical\"], #agents to evaluate\n",
    "    configuration={\"episodeSteps\": 100}, #number of episodes\n",
    ")"
   ]
  },
  {
   "cell_type": "code",
   "execution_count": 57,
   "id": "dfbc6a64",
   "metadata": {},
   "outputs": [
    {
     "name": "stdout",
     "output_type": "stream",
     "text": [
      "Overwriting rock_paper_only.py\n"
     ]
    }
   ],
   "source": [
    "# игрок, использует рандомно только камень и бумагу\n",
    "%%writefile rock_paper_only.py\n",
    "import random\n",
    "\n",
    "def rock_paper_only(observation, configuration):\n",
    "    return random.randrange(0, 1, 1)"
   ]
  },
  {
   "cell_type": "code",
   "execution_count": 59,
   "id": "df524330",
   "metadata": {},
   "outputs": [
    {
     "data": {
      "text/plain": [
       "[[-98.0, 98.0]]"
      ]
     },
     "execution_count": 59,
     "metadata": {},
     "output_type": "execute_result"
    }
   ],
   "source": [
    "evaluate(\n",
    "    \"rps\", #environment to use - no need to change\n",
    "    [\"rock_paper_only.py\", \"statistical\"], #agents to evaluate\n",
    "    configuration={\"episodeSteps\": 100}, #number of episodes\n",
    ")"
   ]
  },
  {
   "cell_type": "code",
   "execution_count": 28,
   "id": "852ed6e3",
   "metadata": {},
   "outputs": [
    {
     "name": "stdout",
     "output_type": "stream",
     "text": [
      "Writing sequence_agent.py\n"
     ]
    }
   ],
   "source": [
    "# игрок играет по очереди камень, бумагу и ножницы\n",
    "%%writefile sequence_agent.py\n",
    "\n",
    "counter = -1\n",
    "\n",
    "def sequence(observation, configuration):\n",
    "    global counter\n",
    "    counter += 1\n",
    "    if counter % 3 == 0:\n",
    "        return 0\n",
    "    elif counter % 3 == 1:\n",
    "        return 1\n",
    "    else:\n",
    "        return 2"
   ]
  },
  {
   "cell_type": "code",
   "execution_count": 27,
   "id": "eb0ff21d",
   "metadata": {},
   "outputs": [
    {
     "data": {
      "text/plain": [
       "[[-20.0, 20.0]]"
      ]
     },
     "execution_count": 27,
     "metadata": {},
     "output_type": "execute_result"
    }
   ],
   "source": [
    "evaluate(\n",
    "    \"rps\", #environment to use - no need to change\n",
    "    [\"sequence_agent.py\", \"statistical\"], #agents to evaluate\n",
    "    configuration={\"episodeSteps\": 100}, #number of episodes\n",
    ")"
   ]
  },
  {
   "cell_type": "code",
   "execution_count": 61,
   "id": "5b5ca408",
   "metadata": {},
   "outputs": [],
   "source": [
    "# проводим соревнование\n",
    "agents = ['rock_agent.py',\n",
    "          'paper_agent.py',\n",
    "          'scissors_agent.py',\n",
    "          'random_opponent.py',\n",
    "          'copy_opponent.py',\n",
    "          'copynext_opponent.py',\n",
    "          'copyprevious_opponent.py',\n",
    "          'opposit_agent.py', \n",
    "          'random3_opponent.py', \n",
    "          'rock_scissors_only.py', \n",
    "          'rock_paper_only.py', \n",
    "          'sequence_agent.py']\n",
    "\n",
    "\n",
    "rank = {agent: 0 for agent in agents}\n",
    "\n",
    "for times in range(3):\n",
    "# сколько раундов сыграет каждая пара\n",
    "          \n",
    "    for i in range(len(agents)):\n",
    "        for j in range(i+1, len(agents)):\n",
    "            e = evaluate(\n",
    "            \"rps\", #environment to use - no need to change\n",
    "            [agents[i], agents[j]], #agents to evaluate\n",
    "            configuration={\"episodeSteps\": 100, 'tieRewardThreshold': 1} #number of episodes \n",
    "            )\n",
    "            if e[0][0] > e[0][1]:\n",
    "                rank[agents[i]] += 1\n",
    "            elif e[0][0] < e[0][1]:\n",
    "                rank[agents[j]] += 1\n",
    "            "
   ]
  },
  {
   "cell_type": "code",
   "execution_count": 62,
   "id": "91a5fdc2",
   "metadata": {},
   "outputs": [
    {
     "data": {
      "text/html": [
       "<div>\n",
       "<style scoped>\n",
       "    .dataframe tbody tr th:only-of-type {\n",
       "        vertical-align: middle;\n",
       "    }\n",
       "\n",
       "    .dataframe tbody tr th {\n",
       "        vertical-align: top;\n",
       "    }\n",
       "\n",
       "    .dataframe thead th {\n",
       "        text-align: right;\n",
       "    }\n",
       "</style>\n",
       "<table border=\"1\" class=\"dataframe\">\n",
       "  <thead>\n",
       "    <tr style=\"text-align: right;\">\n",
       "      <th></th>\n",
       "      <th>Рейтинг турнира по количеству выигранных партий</th>\n",
       "    </tr>\n",
       "  </thead>\n",
       "  <tbody>\n",
       "    <tr>\n",
       "      <th>copynext_opponent.py</th>\n",
       "      <td>25</td>\n",
       "    </tr>\n",
       "    <tr>\n",
       "      <th>opposit_agent.py</th>\n",
       "      <td>19</td>\n",
       "    </tr>\n",
       "    <tr>\n",
       "      <th>random3_opponent.py</th>\n",
       "      <td>19</td>\n",
       "    </tr>\n",
       "    <tr>\n",
       "      <th>paper_agent.py</th>\n",
       "      <td>17</td>\n",
       "    </tr>\n",
       "    <tr>\n",
       "      <th>random_opponent.py</th>\n",
       "      <td>15</td>\n",
       "    </tr>\n",
       "    <tr>\n",
       "      <th>scissors_agent.py</th>\n",
       "      <td>13</td>\n",
       "    </tr>\n",
       "    <tr>\n",
       "      <th>copy_opponent.py</th>\n",
       "      <td>13</td>\n",
       "    </tr>\n",
       "    <tr>\n",
       "      <th>rock_scissors_only.py</th>\n",
       "      <td>11</td>\n",
       "    </tr>\n",
       "    <tr>\n",
       "      <th>rock_paper_only.py</th>\n",
       "      <td>10</td>\n",
       "    </tr>\n",
       "    <tr>\n",
       "      <th>rock_agent.py</th>\n",
       "      <td>9</td>\n",
       "    </tr>\n",
       "    <tr>\n",
       "      <th>copyprevious_opponent.py</th>\n",
       "      <td>7</td>\n",
       "    </tr>\n",
       "    <tr>\n",
       "      <th>sequence_agent.py</th>\n",
       "      <td>5</td>\n",
       "    </tr>\n",
       "  </tbody>\n",
       "</table>\n",
       "</div>"
      ],
      "text/plain": [
       "                          Рейтинг турнира по количеству выигранных партий\n",
       "copynext_opponent.py                                                   25\n",
       "opposit_agent.py                                                       19\n",
       "random3_opponent.py                                                    19\n",
       "paper_agent.py                                                         17\n",
       "random_opponent.py                                                     15\n",
       "scissors_agent.py                                                      13\n",
       "copy_opponent.py                                                       13\n",
       "rock_scissors_only.py                                                  11\n",
       "rock_paper_only.py                                                     10\n",
       "rock_agent.py                                                           9\n",
       "copyprevious_opponent.py                                                7\n",
       "sequence_agent.py                                                       5"
      ]
     },
     "execution_count": 62,
     "metadata": {},
     "output_type": "execute_result"
    }
   ],
   "source": [
    "rank_se = pd.Series(rank, name=\"Рейтинг турнира по количеству выигранных партий\").sort_values(ascending=False).to_frame()\n",
    "rank_se"
   ]
  },
  {
   "cell_type": "code",
   "execution_count": null,
   "id": "152e95c8",
   "metadata": {},
   "outputs": [],
   "source": []
  }
 ],
 "metadata": {
  "kernelspec": {
   "display_name": "Python 3 (ipykernel)",
   "language": "python",
   "name": "python3"
  },
  "language_info": {
   "codemirror_mode": {
    "name": "ipython",
    "version": 3
   },
   "file_extension": ".py",
   "mimetype": "text/x-python",
   "name": "python",
   "nbconvert_exporter": "python",
   "pygments_lexer": "ipython3",
   "version": "3.9.12"
  }
 },
 "nbformat": 4,
 "nbformat_minor": 5
}
